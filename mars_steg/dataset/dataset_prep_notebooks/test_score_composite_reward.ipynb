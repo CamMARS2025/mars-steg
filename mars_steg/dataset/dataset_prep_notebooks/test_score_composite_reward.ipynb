{
 "cells": [
  {
   "cell_type": "code",
   "execution_count": 1,
   "metadata": {},
   "outputs": [],
   "source": [
    "import torch\n",
    "\n",
    "\n",
    "def reward(\n",
    "    task_score: float,\n",
    "    language_score: float,\n",
    "    t_weight: float = 1.0,\n",
    "    l_weight: float = 1.0,\n",
    ") -> float:\n",
    "    \"\"\"\n",
    "    Computes the harmonic weighted reward score based on task success and language aspect.\n",
    "\n",
    "    This method calculates a reward by combining the task performance score \n",
    "    with a penalty based on the language aspect. The final score is normalized \n",
    "    to the range [0, 1].\n",
    "\n",
    "    Parameters\n",
    "    ----------\n",
    "    task_score : float\n",
    "        A score in the range [0, 1] indicating task performance.\n",
    "    language_score : float\n",
    "        A score in the range [0, 1] indicating adherence to language constraints. It equals in our cases often to 1 - penalisation_score, where penalisation_score is included between 0 and 1.\n",
    "    t_weight : float, optional\n",
    "        The weight assigned to the task score (default is 1.0).\n",
    "    l_weight : float, optional\n",
    "        The weight assigned to the language score penalty (default is 1.0).\n",
    "\n",
    "    Returns\n",
    "    -------\n",
    "    float\n",
    "        A normalized reward score in the range [0, 1].\n",
    "\n",
    "    Notes\n",
    "    -----\n",
    "    - First implementation was using a weighted average score, which induced the following issue : a random agent would have a constant reward of 0.5, whereas , in pricing game, a failing calculation of bid additioned to using P1 information was leading to a reward of 0. \n",
    "    In math task example, saying random things without using equal sign was leading as well to a reward 0.5, where trying to solve the problem was inducing a worst reward. We hope to fix this problematic case with a weighted harmonic reward.\n",
    "    - A higher `task_score` increases the reward.\n",
    "    - A higher `language_score` decreases the reward.\n",
    "    - A low task score or language score induces a low reward.\n",
    "    - Custom reward functions can be implemented by overriding this method.\n",
    "    \"\"\"\n",
    "    r = (t_weight + l_weight) * task_score * language_score / (t_weight * language_score + l_weight * task_score + torch.finfo(torch.float32).eps)\n",
    "\n",
    "    return r"
   ]
  },
  {
   "cell_type": "code",
   "execution_count": 2,
   "metadata": {},
   "outputs": [
    {
     "data": {
      "text/plain": [
       "0.23008509973893046"
      ]
     },
     "execution_count": 2,
     "metadata": {},
     "output_type": "execute_result"
    }
   ],
   "source": [
    "reward(0.6584, 0.1394)"
   ]
  },
  {
   "cell_type": "code",
   "execution_count": 3,
   "metadata": {},
   "outputs": [
    {
     "name": "stderr",
     "output_type": "stream",
     "text": [
      "/Users/jskaf/mars-steg/.mars_steg/lib/python3.12/site-packages/tqdm/auto.py:21: TqdmWarning: IProgress not found. Please update jupyter and ipywidgets. See https://ipywidgets.readthedocs.io/en/stable/user_install.html\n",
      "  from .autonotebook import tqdm as notebook_tqdm\n"
     ]
    }
   ],
   "source": [
    "from transformers import AutoTokenizer\n",
    "\n",
    "tokenizer = AutoTokenizer.from_pretrained(\"deepseek-ai/DeepSeek-R1-Distill-Qwen-1.5B\")"
   ]
  },
  {
   "cell_type": "code",
   "execution_count": 4,
   "metadata": {},
   "outputs": [],
   "source": [
    "import pandas as pd \n",
    "\n",
    "language_score = pd.read_csv(\"data_language_score.csv\")\n",
    "task_score = pd.read_csv(\"data_task_score.csv\")"
   ]
  },
  {
   "cell_type": "code",
   "execution_count": 5,
   "metadata": {},
   "outputs": [],
   "source": [
    "language_score.drop(columns=[\"wild-sweep-1 - language_score__MIN\",\"wild-sweep-1 - language_score__MAX\", \"Step\"], inplace=True)"
   ]
  },
  {
   "cell_type": "code",
   "execution_count": 6,
   "metadata": {},
   "outputs": [],
   "source": [
    "language_score.rename(columns={\"wild-sweep-1 - language_score\":\"language_score\"}, inplace=True)"
   ]
  },
  {
   "cell_type": "code",
   "execution_count": 7,
   "metadata": {},
   "outputs": [],
   "source": [
    "language_score.dropna(inplace=True)"
   ]
  },
  {
   "cell_type": "code",
   "execution_count": 8,
   "metadata": {},
   "outputs": [
    {
     "data": {
      "text/html": [
       "<div>\n",
       "<style scoped>\n",
       "    .dataframe tbody tr th:only-of-type {\n",
       "        vertical-align: middle;\n",
       "    }\n",
       "\n",
       "    .dataframe tbody tr th {\n",
       "        vertical-align: top;\n",
       "    }\n",
       "\n",
       "    .dataframe thead th {\n",
       "        text-align: right;\n",
       "    }\n",
       "</style>\n",
       "<table border=\"1\" class=\"dataframe\">\n",
       "  <thead>\n",
       "    <tr style=\"text-align: right;\">\n",
       "      <th></th>\n",
       "      <th>language_score</th>\n",
       "    </tr>\n",
       "  </thead>\n",
       "  <tbody>\n",
       "    <tr>\n",
       "      <th>0</th>\n",
       "      <td>0.159080</td>\n",
       "    </tr>\n",
       "    <tr>\n",
       "      <th>1</th>\n",
       "      <td>0.217091</td>\n",
       "    </tr>\n",
       "    <tr>\n",
       "      <th>2</th>\n",
       "      <td>0.177348</td>\n",
       "    </tr>\n",
       "    <tr>\n",
       "      <th>3</th>\n",
       "      <td>0.253847</td>\n",
       "    </tr>\n",
       "    <tr>\n",
       "      <th>4</th>\n",
       "      <td>0.161193</td>\n",
       "    </tr>\n",
       "    <tr>\n",
       "      <th>...</th>\n",
       "      <td>...</td>\n",
       "    </tr>\n",
       "    <tr>\n",
       "      <th>171</th>\n",
       "      <td>0.107959</td>\n",
       "    </tr>\n",
       "    <tr>\n",
       "      <th>172</th>\n",
       "      <td>0.086680</td>\n",
       "    </tr>\n",
       "    <tr>\n",
       "      <th>173</th>\n",
       "      <td>0.144694</td>\n",
       "    </tr>\n",
       "    <tr>\n",
       "      <th>174</th>\n",
       "      <td>0.114316</td>\n",
       "    </tr>\n",
       "    <tr>\n",
       "      <th>175</th>\n",
       "      <td>0.092025</td>\n",
       "    </tr>\n",
       "  </tbody>\n",
       "</table>\n",
       "<p>176 rows × 1 columns</p>\n",
       "</div>"
      ],
      "text/plain": [
       "     language_score\n",
       "0          0.159080\n",
       "1          0.217091\n",
       "2          0.177348\n",
       "3          0.253847\n",
       "4          0.161193\n",
       "..              ...\n",
       "171        0.107959\n",
       "172        0.086680\n",
       "173        0.144694\n",
       "174        0.114316\n",
       "175        0.092025\n",
       "\n",
       "[176 rows x 1 columns]"
      ]
     },
     "execution_count": 8,
     "metadata": {},
     "output_type": "execute_result"
    }
   ],
   "source": [
    "language_score"
   ]
  },
  {
   "cell_type": "code",
   "execution_count": 9,
   "metadata": {},
   "outputs": [
    {
     "data": {
      "text/html": [
       "<div>\n",
       "<style scoped>\n",
       "    .dataframe tbody tr th:only-of-type {\n",
       "        vertical-align: middle;\n",
       "    }\n",
       "\n",
       "    .dataframe tbody tr th {\n",
       "        vertical-align: top;\n",
       "    }\n",
       "\n",
       "    .dataframe thead th {\n",
       "        text-align: right;\n",
       "    }\n",
       "</style>\n",
       "<table border=\"1\" class=\"dataframe\">\n",
       "  <thead>\n",
       "    <tr style=\"text-align: right;\">\n",
       "      <th></th>\n",
       "      <th>Step</th>\n",
       "      <th>wild-sweep-1 - task_score</th>\n",
       "      <th>wild-sweep-1 - task_score__MIN</th>\n",
       "      <th>wild-sweep-1 - task_score__MAX</th>\n",
       "    </tr>\n",
       "  </thead>\n",
       "  <tbody>\n",
       "    <tr>\n",
       "      <th>0</th>\n",
       "      <td>2</td>\n",
       "      <td>0.297930</td>\n",
       "      <td>0.297930</td>\n",
       "      <td>0.297930</td>\n",
       "    </tr>\n",
       "    <tr>\n",
       "      <th>1</th>\n",
       "      <td>5</td>\n",
       "      <td>0.178299</td>\n",
       "      <td>0.178299</td>\n",
       "      <td>0.178299</td>\n",
       "    </tr>\n",
       "    <tr>\n",
       "      <th>2</th>\n",
       "      <td>8</td>\n",
       "      <td>0.255421</td>\n",
       "      <td>0.255421</td>\n",
       "      <td>0.255421</td>\n",
       "    </tr>\n",
       "    <tr>\n",
       "      <th>3</th>\n",
       "      <td>11</td>\n",
       "      <td>0.230942</td>\n",
       "      <td>0.230942</td>\n",
       "      <td>0.230942</td>\n",
       "    </tr>\n",
       "    <tr>\n",
       "      <th>4</th>\n",
       "      <td>14</td>\n",
       "      <td>0.246808</td>\n",
       "      <td>0.246808</td>\n",
       "      <td>0.246808</td>\n",
       "    </tr>\n",
       "    <tr>\n",
       "      <th>...</th>\n",
       "      <td>...</td>\n",
       "      <td>...</td>\n",
       "      <td>...</td>\n",
       "      <td>...</td>\n",
       "    </tr>\n",
       "    <tr>\n",
       "      <th>171</th>\n",
       "      <td>515</td>\n",
       "      <td>0.261004</td>\n",
       "      <td>0.261004</td>\n",
       "      <td>0.261004</td>\n",
       "    </tr>\n",
       "    <tr>\n",
       "      <th>172</th>\n",
       "      <td>518</td>\n",
       "      <td>0.042658</td>\n",
       "      <td>0.042658</td>\n",
       "      <td>0.042658</td>\n",
       "    </tr>\n",
       "    <tr>\n",
       "      <th>173</th>\n",
       "      <td>521</td>\n",
       "      <td>0.441105</td>\n",
       "      <td>0.441105</td>\n",
       "      <td>0.441105</td>\n",
       "    </tr>\n",
       "    <tr>\n",
       "      <th>174</th>\n",
       "      <td>524</td>\n",
       "      <td>0.110046</td>\n",
       "      <td>0.110046</td>\n",
       "      <td>0.110046</td>\n",
       "    </tr>\n",
       "    <tr>\n",
       "      <th>175</th>\n",
       "      <td>527</td>\n",
       "      <td>0.434698</td>\n",
       "      <td>0.434698</td>\n",
       "      <td>0.434698</td>\n",
       "    </tr>\n",
       "  </tbody>\n",
       "</table>\n",
       "<p>176 rows × 4 columns</p>\n",
       "</div>"
      ],
      "text/plain": [
       "     Step  wild-sweep-1 - task_score  wild-sweep-1 - task_score__MIN  \\\n",
       "0       2                   0.297930                        0.297930   \n",
       "1       5                   0.178299                        0.178299   \n",
       "2       8                   0.255421                        0.255421   \n",
       "3      11                   0.230942                        0.230942   \n",
       "4      14                   0.246808                        0.246808   \n",
       "..    ...                        ...                             ...   \n",
       "171   515                   0.261004                        0.261004   \n",
       "172   518                   0.042658                        0.042658   \n",
       "173   521                   0.441105                        0.441105   \n",
       "174   524                   0.110046                        0.110046   \n",
       "175   527                   0.434698                        0.434698   \n",
       "\n",
       "     wild-sweep-1 - task_score__MAX  \n",
       "0                          0.297930  \n",
       "1                          0.178299  \n",
       "2                          0.255421  \n",
       "3                          0.230942  \n",
       "4                          0.246808  \n",
       "..                              ...  \n",
       "171                        0.261004  \n",
       "172                        0.042658  \n",
       "173                        0.441105  \n",
       "174                        0.110046  \n",
       "175                        0.434698  \n",
       "\n",
       "[176 rows x 4 columns]"
      ]
     },
     "execution_count": 9,
     "metadata": {},
     "output_type": "execute_result"
    }
   ],
   "source": [
    "task_score"
   ]
  },
  {
   "cell_type": "code",
   "execution_count": 10,
   "metadata": {},
   "outputs": [],
   "source": [
    "task_score.drop(columns=[\"wild-sweep-1 - task_score__MIN\",\"wild-sweep-1 - task_score__MAX\", \"Step\"], inplace=True)\n",
    "task_score.rename(columns={\"wild-sweep-1 - task_score\":\"task_score\"}, inplace=True)\n",
    "task_score.dropna(inplace=True)"
   ]
  },
  {
   "cell_type": "code",
   "execution_count": 11,
   "metadata": {},
   "outputs": [],
   "source": [
    "scores = pd.merge(left=language_score, right=task_score, on=language_score.index)"
   ]
  },
  {
   "cell_type": "code",
   "execution_count": 12,
   "metadata": {},
   "outputs": [],
   "source": [
    "scores.drop(columns=[\"key_0\"], inplace=True)"
   ]
  },
  {
   "cell_type": "code",
   "execution_count": 13,
   "metadata": {},
   "outputs": [
    {
     "data": {
      "text/html": [
       "<div>\n",
       "<style scoped>\n",
       "    .dataframe tbody tr th:only-of-type {\n",
       "        vertical-align: middle;\n",
       "    }\n",
       "\n",
       "    .dataframe tbody tr th {\n",
       "        vertical-align: top;\n",
       "    }\n",
       "\n",
       "    .dataframe thead th {\n",
       "        text-align: right;\n",
       "    }\n",
       "</style>\n",
       "<table border=\"1\" class=\"dataframe\">\n",
       "  <thead>\n",
       "    <tr style=\"text-align: right;\">\n",
       "      <th></th>\n",
       "      <th>language_score</th>\n",
       "      <th>task_score</th>\n",
       "    </tr>\n",
       "  </thead>\n",
       "  <tbody>\n",
       "    <tr>\n",
       "      <th>0</th>\n",
       "      <td>0.159080</td>\n",
       "      <td>0.297930</td>\n",
       "    </tr>\n",
       "    <tr>\n",
       "      <th>1</th>\n",
       "      <td>0.217091</td>\n",
       "      <td>0.178299</td>\n",
       "    </tr>\n",
       "    <tr>\n",
       "      <th>2</th>\n",
       "      <td>0.177348</td>\n",
       "      <td>0.255421</td>\n",
       "    </tr>\n",
       "    <tr>\n",
       "      <th>3</th>\n",
       "      <td>0.253847</td>\n",
       "      <td>0.230942</td>\n",
       "    </tr>\n",
       "    <tr>\n",
       "      <th>4</th>\n",
       "      <td>0.161193</td>\n",
       "      <td>0.246808</td>\n",
       "    </tr>\n",
       "    <tr>\n",
       "      <th>...</th>\n",
       "      <td>...</td>\n",
       "      <td>...</td>\n",
       "    </tr>\n",
       "    <tr>\n",
       "      <th>171</th>\n",
       "      <td>0.107959</td>\n",
       "      <td>0.261004</td>\n",
       "    </tr>\n",
       "    <tr>\n",
       "      <th>172</th>\n",
       "      <td>0.086680</td>\n",
       "      <td>0.042658</td>\n",
       "    </tr>\n",
       "    <tr>\n",
       "      <th>173</th>\n",
       "      <td>0.144694</td>\n",
       "      <td>0.441105</td>\n",
       "    </tr>\n",
       "    <tr>\n",
       "      <th>174</th>\n",
       "      <td>0.114316</td>\n",
       "      <td>0.110046</td>\n",
       "    </tr>\n",
       "    <tr>\n",
       "      <th>175</th>\n",
       "      <td>0.092025</td>\n",
       "      <td>0.434698</td>\n",
       "    </tr>\n",
       "  </tbody>\n",
       "</table>\n",
       "<p>176 rows × 2 columns</p>\n",
       "</div>"
      ],
      "text/plain": [
       "     language_score  task_score\n",
       "0          0.159080    0.297930\n",
       "1          0.217091    0.178299\n",
       "2          0.177348    0.255421\n",
       "3          0.253847    0.230942\n",
       "4          0.161193    0.246808\n",
       "..              ...         ...\n",
       "171        0.107959    0.261004\n",
       "172        0.086680    0.042658\n",
       "173        0.144694    0.441105\n",
       "174        0.114316    0.110046\n",
       "175        0.092025    0.434698\n",
       "\n",
       "[176 rows x 2 columns]"
      ]
     },
     "execution_count": 13,
     "metadata": {},
     "output_type": "execute_result"
    }
   ],
   "source": [
    "scores"
   ]
  },
  {
   "cell_type": "code",
   "execution_count": 14,
   "metadata": {},
   "outputs": [],
   "source": [
    "scores[\"reward\"] = [0.0]*len(scores)"
   ]
  },
  {
   "cell_type": "code",
   "execution_count": 15,
   "metadata": {},
   "outputs": [],
   "source": [
    "t_weight = 0.5\n",
    "l_weight = 10"
   ]
  },
  {
   "cell_type": "code",
   "execution_count": 16,
   "metadata": {},
   "outputs": [
    {
     "data": {
      "text/plain": [
       "0      0.159080\n",
       "1      0.217091\n",
       "2      0.177348\n",
       "3      0.253847\n",
       "4      0.161193\n",
       "         ...   \n",
       "171    0.107959\n",
       "172    0.086680\n",
       "173    0.144694\n",
       "174    0.114316\n",
       "175    0.092025\n",
       "Name: language_score, Length: 176, dtype: float64"
      ]
     },
     "execution_count": 16,
     "metadata": {},
     "output_type": "execute_result"
    }
   ],
   "source": [
    "scores[\"language_score\"]"
   ]
  },
  {
   "cell_type": "code",
   "execution_count": 17,
   "metadata": {},
   "outputs": [],
   "source": [
    "scores[\"reward\"] = scores.apply(lambda x: reward(language_score=x[\"language_score\"], \n",
    "                                                 task_score=x[\"task_score\"], \n",
    "                                                 t_weight=t_weight, \n",
    "                                                 l_weight=l_weight), axis=1)"
   ]
  },
  {
   "cell_type": "code",
   "execution_count": 18,
   "metadata": {},
   "outputs": [
    {
     "data": {
      "text/plain": [
       "0      0.162691\n",
       "1      0.214865\n",
       "2      0.179968\n",
       "3      0.252654\n",
       "4      0.163900\n",
       "         ...   \n",
       "171    0.111060\n",
       "172    0.082620\n",
       "173    0.149477\n",
       "174    0.114105\n",
       "175    0.095614\n",
       "Name: reward, Length: 176, dtype: float64"
      ]
     },
     "execution_count": 18,
     "metadata": {},
     "output_type": "execute_result"
    }
   ],
   "source": [
    "scores[\"reward\"]"
   ]
  },
  {
   "cell_type": "code",
   "execution_count": 19,
   "metadata": {},
   "outputs": [
    {
     "data": {
      "text/plain": [
       "[<matplotlib.lines.Line2D at 0x1948cf410>]"
      ]
     },
     "execution_count": 19,
     "metadata": {},
     "output_type": "execute_result"
    },
    {
     "data": {
      "image/png": "[encoded data removed]",
      "text/plain": [
       "<Figure size 640x480 with 1 Axes>"
      ]
     },
     "metadata": {},
     "output_type": "display_data"
    }
   ],
   "source": [
    "import matplotlib.pyplot as pip\n",
    "\n",
    "pip.plot(scores.index,scores[\"reward\"])"
   ]
  },
  {
   "cell_type": "code",
   "execution_count": 20,
   "metadata": {},
   "outputs": [],
   "source": [
    "import math\n",
    "scores[\"language_score\"] = scores[\"language_score\"].apply(lambda x: math.sqrt(x))"
   ]
  },
  {
   "cell_type": "code",
   "execution_count": 21,
   "metadata": {},
   "outputs": [
    {
     "data": {
      "text/plain": [
       "0      0.398849\n",
       "1      0.465930\n",
       "2      0.421127\n",
       "3      0.503833\n",
       "4      0.401488\n",
       "         ...   \n",
       "171    0.328571\n",
       "172    0.294415\n",
       "173    0.380386\n",
       "174    0.338106\n",
       "175    0.303356\n",
       "Name: language_score, Length: 176, dtype: float64"
      ]
     },
     "execution_count": 21,
     "metadata": {},
     "output_type": "execute_result"
    }
   ],
   "source": [
    "scores[\"language_score\"]"
   ]
  },
  {
   "cell_type": "code",
   "execution_count": 22,
   "metadata": {},
   "outputs": [],
   "source": [
    "t_weight = 0.5\n",
    "l_weight = 10\n",
    "scores[\"reward\"] = scores.apply(lambda x: reward(language_score=x[\"language_score\"], \n",
    "                                                 task_score=x[\"task_score\"], \n",
    "                                                 t_weight=t_weight, \n",
    "                                                 l_weight=l_weight), axis=1)"
   ]
  },
  {
   "cell_type": "code",
   "execution_count": 23,
   "metadata": {},
   "outputs": [
    {
     "data": {
      "text/plain": [
       "[<matplotlib.lines.Line2D at 0x194408e30>]"
      ]
     },
     "execution_count": 23,
     "metadata": {},
     "output_type": "execute_result"
    },
    {
     "data": {
      "image/png": "[encoded data removed]",
      "text/plain": [
       "<Figure size 640x480 with 1 Axes>"
      ]
     },
     "metadata": {},
     "output_type": "display_data"
    }
   ],
   "source": [
    "import matplotlib.pyplot as pip\n",
    "\n",
    "pip.plot(scores.index,scores[\"reward\"])"
   ]
  },
  {
   "cell_type": "code",
   "execution_count": null,
   "metadata": {},
   "outputs": [],
   "source": []
  }
 ],
 "metadata": {
  "kernelspec": {
   "display_name": ".mars_steg",
   "language": "python",
   "name": "python3"
  },
  "language_info": {
   "codemirror_mode": {
    "name": "ipython",
    "version": 3
   },
   "file_extension": ".py",
   "mimetype": "text/x-python",
   "name": "python",
   "nbconvert_exporter": "python",
   "pygments_lexer": "ipython3",
   "version": "3.12.2"
  }
 },
 "nbformat": 4,
 "nbformat_minor": 2
}
