{
 "cells": [
  {
   "cell_type": "code",
   "execution_count": 6,
   "metadata": {},
   "outputs": [],
   "source": [
    "from datasets import load_dataset\n",
    "import json\n",
    "import re\n",
    "import pandas as pd"
   ]
  },
  {
   "cell_type": "code",
   "execution_count": 3,
   "metadata": {},
   "outputs": [],
   "source": [
    "ds = load_dataset(\"AI-MO/NuminaMath-CoT\")\n"
   ]
  },
  {
   "cell_type": "code",
   "execution_count": 22,
   "metadata": {},
   "outputs": [],
   "source": [
    "keys = ['train', 'test']\n",
    "\n",
    "outfiles = {\n",
    "    'train': 'mars_steg/dataset/numina_jsons/train.json',\n",
    "    'test': 'mars_steg/dataset/numina_jsons/test.json'\n",
    "}\n",
    "\n",
    "problem_key = 'problem'"
   ]
  },
  {
   "cell_type": "code",
   "execution_count": 40,
   "metadata": {},
   "outputs": [
    {
     "name": "stdout",
     "output_type": "stream",
     "text": [
      "{\n",
      "    \"source\": \"cn_k12\",\n",
      "    \"problem\": \"Given the functions $f(x) = \\\\log_a(1+x)$ and $g(x) = \\\\log_a(1-x)$, where $a>0$ and $a \\\\neq 1$.\\n1. Find the domain of the function $f(x) - g(x)$.\\n2. Determine the parity of the function $f(x) - g(x)$.\\n3. Find the range of $x$ for which $f(x) - g(x) > 0$.\",\n",
      "    \"solution\": \"1. Since $f(x) = \\\\log_a(1+x)$ and $g(x) = \\\\log_a(1-x)$, where $a>0$ and $a \\\\neq 1$, we have $f(x) - g(x) = \\\\log_a(1+x) - \\\\log_a(1-x)$, where $a>0$ and $a \\\\neq 1$. To ensure the function $f(x) - g(x)$ is meaningful, we need\\n$$\\n\\\\begin{cases}\\n1+x > 0 \\\\\\\\\\n1-x > 0\\n\\\\end{cases}\\n$$\\nSolving this, we get $-1 < x < 1$, which means the domain of the function $f(x) - g(x)$ is $(-1, 1)$.\\n\\n2. Since the domain of $f(x) - g(x)$ is $(-1, 1)$, which is symmetric about the origin, let $F(x) = f(x) - g(x)$. Then $F(-x) = f(-x) - g(-x) = \\\\log_a(1-x) - \\\\log_a(1+x) = -[\\\\log_a(1+x) - \\\\log_a(1-x)] = -F(x)$. Therefore, $f(x) - g(x)$ is an odd function.\\n\\n3. From $f(x) - g(x) > 0$, we get $f(x) > g(x)$, which means $\\\\log_a(1+x) > \\\\log_a(1-x)$. If $a > 1$, then\\n$$\\n\\\\begin{cases}\\n-1 < x < 1 \\\\\\\\\\n1+x > 1-x\\n\\\\end{cases}\\n$$\\nwhich simplifies to\\n$$\\n\\\\begin{cases}\\n-1 < x < 1 \\\\\\\\\\nx > 0\\n\\\\end{cases}\\n$$\\nSolving this, we get $0 < x < 1$. If $0 < a < 1$, then\\n$$\\n\\\\begin{cases}\\n-1 < x < 1 \\\\\\\\\\n1+x < 1-x\\n\\\\end{cases}\\n$$\\nwhich simplifies to\\n$$\\n\\\\begin{cases}\\n-1 < x < 1 \\\\\\\\\\nx < 0\\n\\\\end{cases}\\n$$\\nSolving this, we get $-1 < x < 0$. In summary, if $a > 1$, the solution set for the inequality is $(0, 1)$, and if $0 < a < 1$, the solution set for the inequality is $(-1, 0)$.\\n\\nTherefore, the final answers are:\\n1. The domain of $f(x) - g(x)$ is $\\\\boxed{(-1, 1)}$.\\n2. The function $f(x) - g(x)$ is an $\\\\boxed{\\\\text{odd function}}$.\\n3. The range of $x$ for which $f(x) - g(x) > 0$ is $\\\\boxed{(0, 1)}$ if $a > 1$, and $\\\\boxed{(-1, 0)}$ if $0 < a < 1$.\",\n",
      "    \"messages\": [\n",
      "        {\n",
      "            \"content\": \"Given the functions $f(x) = \\\\log_a(1+x)$ and $g(x) = \\\\log_a(1-x)$, where $a>0$ and $a \\\\neq 1$.\\n1. Find the domain of the function $f(x) - g(x)$.\\n2. Determine the parity of the function $f(x) - g(x)$.\\n3. Find the range of $x$ for which $f(x) - g(x) > 0$.\",\n",
      "            \"role\": \"user\"\n",
      "        },\n",
      "        {\n",
      "            \"content\": \"1. Since $f(x) = \\\\log_a(1+x)$ and $g(x) = \\\\log_a(1-x)$, where $a>0$ and $a \\\\neq 1$, we have $f(x) - g(x) = \\\\log_a(1+x) - \\\\log_a(1-x)$, where $a>0$ and $a \\\\neq 1$. To ensure the function $f(x) - g(x)$ is meaningful, we need\\n$$\\n\\\\begin{cases}\\n1+x > 0 \\\\\\\\\\n1-x > 0\\n\\\\end{cases}\\n$$\\nSolving this, we get $-1 < x < 1$, which means the domain of the function $f(x) - g(x)$ is $(-1, 1)$.\\n\\n2. Since the domain of $f(x) - g(x)$ is $(-1, 1)$, which is symmetric about the origin, let $F(x) = f(x) - g(x)$. Then $F(-x) = f(-x) - g(-x) = \\\\log_a(1-x) - \\\\log_a(1+x) = -[\\\\log_a(1+x) - \\\\log_a(1-x)] = -F(x)$. Therefore, $f(x) - g(x)$ is an odd function.\\n\\n3. From $f(x) - g(x) > 0$, we get $f(x) > g(x)$, which means $\\\\log_a(1+x) > \\\\log_a(1-x)$. If $a > 1$, then\\n$$\\n\\\\begin{cases}\\n-1 < x < 1 \\\\\\\\\\n1+x > 1-x\\n\\\\end{cases}\\n$$\\nwhich simplifies to\\n$$\\n\\\\begin{cases}\\n-1 < x < 1 \\\\\\\\\\nx > 0\\n\\\\end{cases}\\n$$\\nSolving this, we get $0 < x < 1$. If $0 < a < 1$, then\\n$$\\n\\\\begin{cases}\\n-1 < x < 1 \\\\\\\\\\n1+x < 1-x\\n\\\\end{cases}\\n$$\\nwhich simplifies to\\n$$\\n\\\\begin{cases}\\n-1 < x < 1 \\\\\\\\\\nx < 0\\n\\\\end{cases}\\n$$\\nSolving this, we get $-1 < x < 0$. In summary, if $a > 1$, the solution set for the inequality is $(0, 1)$, and if $0 < a < 1$, the solution set for the inequality is $(-1, 0)$.\\n\\nTherefore, the final answers are:\\n1. The domain of $f(x) - g(x)$ is $\\\\boxed{(-1, 1)}$.\\n2. The function $f(x) - g(x)$ is an $\\\\boxed{\\\\text{odd function}}$.\\n3. The range of $x$ for which $f(x) - g(x) > 0$ is $\\\\boxed{(0, 1)}$ if $a > 1$, and $\\\\boxed{(-1, 0)}$ if $0 < a < 1$.\",\n",
      "            \"role\": \"assistant\"\n",
      "        }\n",
      "    ]\n",
      "}\n"
     ]
    }
   ],
   "source": [
    "# PRINT EXAMPLE\n",
    "ex_idx = 3\n",
    "example = ds[keys[0]][ex_idx]\n",
    "\n",
    "print(json.dumps(example, indent=4))\n"
   ]
  },
  {
   "cell_type": "code",
   "execution_count": 41,
   "metadata": {},
   "outputs": [
    {
     "name": "stdout",
     "output_type": "stream",
     "text": [
      "3 \n",
      "\n",
      "Given the functions $f(x) = \\log_a(1+x)$ and $g(x) = \\log_a(1-x)$, where $a>0$ and $a \\neq 1$.\n",
      "1. Find the domain of the function $f(x) - g(x)$.\n",
      "2. Determine the parity of the function $f(x) - g(x)$.\n",
      "3. Find the range of $x$ for which $f(x) - g(x) > 0$. \n",
      "\n",
      "['(-1, 1)', '\\\\text{odd function}', '(0, 1)}$ if $a > 1$, and $\\\\boxed{(-1, 0)'] \n",
      "\n",
      "1. Since $f(x) = \\log_a(1+x)$ and $g(x) = \\log_a(1-x)$, where $a>0$ and $a \\neq 1$, we have $f(x) - g(x) = \\log_a(1+x) - \\log_a(1-x)$, where $a>0$ and $a \\neq 1$. To ensure the function $f(x) - g(x)$ is meaningful, we need\n",
      "$$\n",
      "\\begin{cases}\n",
      "1+x > 0 \\\\\n",
      "1-x > 0\n",
      "\\end{cases}\n",
      "$$\n",
      "Solving this, we get $-1 < x < 1$, which means the domain of the function $f(x) - g(x)$ is $(-1, 1)$.\n",
      "\n",
      "2. Since the domain of $f(x) - g(x)$ is $(-1, 1)$, which is symmetric about the origin, let $F(x) = f(x) - g(x)$. Then $F(-x) = f(-x) - g(-x) = \\log_a(1-x) - \\log_a(1+x) = -[\\log_a(1+x) - \\log_a(1-x)] = -F(x)$. Therefore, $f(x) - g(x)$ is an odd function.\n",
      "\n",
      "3. From $f(x) - g(x) > 0$, we get $f(x) > g(x)$, which means $\\log_a(1+x) > \\log_a(1-x)$. If $a > 1$, then\n",
      "$$\n",
      "\\begin{cases}\n",
      "-1 < x < 1 \\\\\n",
      "1+x > 1-x\n",
      "\\end{cases}\n",
      "$$\n",
      "which simplifies to\n",
      "$$\n",
      "\\begin{cases}\n",
      "-1 < x < 1 \\\\\n",
      "x > 0\n",
      "\\end{cases}\n",
      "$$\n",
      "Solving this, we get $0 < x < 1$. If $0 < a < 1$, then\n",
      "$$\n",
      "\\begin{cases}\n",
      "-1 < x < 1 \\\\\n",
      "1+x < 1-x\n",
      "\\end{cases}\n",
      "$$\n",
      "which simplifies to\n",
      "$$\n",
      "\\begin{cases}\n",
      "-1 < x < 1 \\\\\n",
      "x < 0\n",
      "\\end{cases}\n",
      "$$\n",
      "Solving this, we get $-1 < x < 0$. In summary, if $a > 1$, the solution set for the inequality is $(0, 1)$, and if $0 < a < 1$, the solution set for the inequality is $(-1, 0)$.\n",
      "\n",
      "Therefore, the final answers are:\n",
      "1. The domain of $f(x) - g(x)$ is $\\boxed{(-1, 1)}$.\n",
      "2. The function $f(x) - g(x)$ is an $\\boxed{\\text{odd function}}$.\n",
      "3. The range of $x$ for which $f(x) - g(x) > 0$ is $\\boxed{(0, 1)}$ if $a > 1$, and $\\boxed{(-1, 0)}$ if $0 < a < 1$.\n"
     ]
    }
   ],
   "source": [
    "final_answer_pattern = 'boxed{(.+)}'\n",
    "\n",
    "def extract_solution(example):\n",
    "    soln = example['solution']\n",
    "    matches = re.findall(final_answer_pattern, soln)\n",
    "    return matches\n",
    " \n",
    "print(ex_idx, '\\n')\n",
    "print(example[problem_key], '\\n')\n",
    "print(extract_solution(example), '\\n')\n",
    "print(example['solution'])\n",
    "ex_idx += 1\n",
    "example = ds[keys[0]][ex_idx]"
   ]
  },
  {
   "cell_type": "code",
   "execution_count": 31,
   "metadata": {},
   "outputs": [
    {
     "data": {
      "text/plain": [
       "4"
      ]
     },
     "execution_count": 31,
     "metadata": {},
     "output_type": "execute_result"
    }
   ],
   "source": [
    "ex_idx"
   ]
  },
  {
   "cell_type": "markdown",
   "metadata": {},
   "source": [
    "3 \n",
    "\n",
    "Given the functions $f(x) = \\log_a(1+x)$ and $g(x) = \\log_a(1-x)$, where $a>0$ and $a \\neq 1$.\n",
    "1. Find the domain of the function $f(x) - g(x)$.\n",
    "2. Determine the parity of the function $f(x) - g(x)$.\n",
    "3. Find the range of $x$ for which $f(x) - g(x) > 0$. \n",
    "\n",
    "['(-1, 1)', '\\\\text{odd function}', '(0, 1)}$ if $a > 1$, and $\\\\boxed{(-1, 0)'] \n",
    "\n",
    "1. Since $f(x) = \\log_a(1+x)$ and $g(x) = \\log_a(1-x)$, where $a>0$ and $a \\neq 1$, we have $f(x) - g(x) = \\log_a(1+x) - \\log_a(1-x)$, where $a>0$ and $a \\neq 1$. To ensure the function $f(x) - g(x)$ is meaningful, we need\n",
    "$$\n",
    "\\begin{cases}\n",
    "1+x > 0 \\\\\n",
    "1-x > 0\n",
    "\\end{cases}\n",
    "$$\n",
    "Solving this, we get $-1 < x < 1$, which means the domain of the function $f(x) - g(x)$ is $(-1, 1)$.\n",
    "\n",
    "2. Since the domain of $f(x) - g(x)$ is $(-1, 1)$, which is symmetric about the origin, let $F(x) = f(x) - g(x)$. Then $F(-x) = f(-x) - g(-x) = \\log_a(1-x) - \\log_a(1+x) = -[\\log_a(1+x) - \\log_a(1-x)] = -F(x)$. Therefore, $f(x) - g(x)$ is an odd function.\n",
    "\n",
    "3. From $f(x) - g(x) > 0$, we get $f(x) > g(x)$, which means $\\log_a(1+x) > \\log_a(1-x)$. If $a > 1$, then\n",
    "$$\n",
    "\\begin{cases}\n",
    "-1 < x < 1 \\\\\n",
    "1+x > 1-x\n",
    "\\end{cases}\n",
    "$$\n",
    "which simplifies to\n",
    "$$\n",
    "\\begin{cases}\n",
    "-1 < x < 1 \\\\\n",
    "x > 0\n",
    "\\end{cases}\n",
    "$$\n",
    "Solving this, we get $0 < x < 1$. If $0 < a < 1$, then\n",
    "$$\n",
    "\\begin{cases}\n",
    "-1 < x < 1 \\\\\n",
    "1+x < 1-x\n",
    "\\end{cases}\n",
    "$$\n",
    "which simplifies to\n",
    "$$\n",
    "\\begin{cases}\n",
    "-1 < x < 1 \\\\\n",
    "x < 0\n",
    "\\end{cases}\n",
    "$$\n",
    "Solving this, we get $-1 < x < 0$. In summary, if $a > 1$, the solution set for the inequality is $(0, 1)$, and if $0 < a < 1$, the solution set for the inequality is $(-1, 0)$.\n",
    "\n",
    "Therefore, the final answers are:\n",
    "1. The domain of $f(x) - g(x)$ is $\\boxed{(-1, 1)}$.\n",
    "2. The function $f(x) - g(x)$ is an $\\boxed{\\text{odd function}}$.\n",
    "3. The range of $x$ for which $f(x) - g(x) > 0$ is $\\boxed{(0, 1)}$ if $a > 1$, and $\\boxed{(-1, 0)}$ if $0 < a < 1$."
   ]
  },
  {
   "cell_type": "markdown",
   "metadata": {},
   "source": [
    "$$"
   ]
  },
  {
   "cell_type": "markdown",
   "metadata": {},
   "source": [
    "$$\n",
    "\n",
    "$$"
   ]
  },
  {
   "cell_type": "code",
   "execution_count": 17,
   "metadata": {},
   "outputs": [
    {
     "ename": "KeyboardInterrupt",
     "evalue": "",
     "output_type": "error",
     "traceback": [
      "\u001b[0;31m---------------------------------------------------------------------------\u001b[0m",
      "\u001b[0;31mKeyboardInterrupt\u001b[0m                         Traceback (most recent call last)",
      "Cell \u001b[0;32mIn[17], line 9\u001b[0m\n\u001b[1;32m      6\u001b[0m solutions \u001b[38;5;241m=\u001b[39m []\n\u001b[1;32m      7\u001b[0m info \u001b[38;5;241m=\u001b[39m []\n\u001b[0;32m----> 9\u001b[0m \u001b[43m\u001b[49m\u001b[38;5;28;43;01mfor\u001b[39;49;00m\u001b[43m \u001b[49m\u001b[43mexample\u001b[49m\u001b[43m \u001b[49m\u001b[38;5;129;43;01min\u001b[39;49;00m\u001b[43m \u001b[49m\u001b[43mds\u001b[49m\u001b[43m[\u001b[49m\u001b[43mkey\u001b[49m\u001b[43m]\u001b[49m\u001b[43m:\u001b[49m\n\u001b[1;32m     11\u001b[0m \u001b[43m    \u001b[49m\u001b[43mproblem\u001b[49m\u001b[43m \u001b[49m\u001b[38;5;241;43m=\u001b[39;49m\u001b[43m \u001b[49m\u001b[43mexample\u001b[49m\u001b[43m[\u001b[49m\u001b[38;5;124;43m'\u001b[39;49m\u001b[38;5;124;43mproblem\u001b[39;49m\u001b[38;5;124;43m'\u001b[39;49m\u001b[43m]\u001b[49m\n",
      "File \u001b[0;32m~/miniconda3/envs/mars/lib/python3.13/site-packages/datasets/arrow_dataset.py:2390\u001b[0m, in \u001b[0;36mDataset.__iter__\u001b[0;34m(self)\u001b[0m\n\u001b[1;32m   2388\u001b[0m         \u001b[38;5;28;01mfor\u001b[39;00m i \u001b[38;5;129;01min\u001b[39;00m \u001b[38;5;28mrange\u001b[39m(pa_subtable\u001b[38;5;241m.\u001b[39mnum_rows):\n\u001b[1;32m   2389\u001b[0m             pa_subtable_ex \u001b[38;5;241m=\u001b[39m pa_subtable\u001b[38;5;241m.\u001b[39mslice(i, \u001b[38;5;241m1\u001b[39m)\n\u001b[0;32m-> 2390\u001b[0m             formatted_output \u001b[38;5;241m=\u001b[39m \u001b[43mformat_table\u001b[49m\u001b[43m(\u001b[49m\n\u001b[1;32m   2391\u001b[0m \u001b[43m                \u001b[49m\u001b[43mpa_subtable_ex\u001b[49m\u001b[43m,\u001b[49m\n\u001b[1;32m   2392\u001b[0m \u001b[43m                \u001b[49m\u001b[38;5;241;43m0\u001b[39;49m\u001b[43m,\u001b[49m\n\u001b[1;32m   2393\u001b[0m \u001b[43m                \u001b[49m\u001b[43mformatter\u001b[49m\u001b[38;5;241;43m=\u001b[39;49m\u001b[43mformatter\u001b[49m\u001b[43m,\u001b[49m\n\u001b[1;32m   2394\u001b[0m \u001b[43m                \u001b[49m\u001b[43mformat_columns\u001b[49m\u001b[38;5;241;43m=\u001b[39;49m\u001b[38;5;28;43mself\u001b[39;49m\u001b[38;5;241;43m.\u001b[39;49m\u001b[43m_format_columns\u001b[49m\u001b[43m,\u001b[49m\n\u001b[1;32m   2395\u001b[0m \u001b[43m                \u001b[49m\u001b[43moutput_all_columns\u001b[49m\u001b[38;5;241;43m=\u001b[39;49m\u001b[38;5;28;43mself\u001b[39;49m\u001b[38;5;241;43m.\u001b[39;49m\u001b[43m_output_all_columns\u001b[49m\u001b[43m,\u001b[49m\n\u001b[1;32m   2396\u001b[0m \u001b[43m            \u001b[49m\u001b[43m)\u001b[49m\n\u001b[1;32m   2397\u001b[0m             \u001b[38;5;28;01myield\u001b[39;00m formatted_output\n\u001b[1;32m   2398\u001b[0m \u001b[38;5;28;01melse\u001b[39;00m:\n",
      "File \u001b[0;32m~/miniconda3/envs/mars/lib/python3.13/site-packages/datasets/formatting/formatting.py:639\u001b[0m, in \u001b[0;36mformat_table\u001b[0;34m(table, key, formatter, format_columns, output_all_columns)\u001b[0m\n\u001b[1;32m    637\u001b[0m python_formatter \u001b[38;5;241m=\u001b[39m PythonFormatter(features\u001b[38;5;241m=\u001b[39mformatter\u001b[38;5;241m.\u001b[39mfeatures)\n\u001b[1;32m    638\u001b[0m \u001b[38;5;28;01mif\u001b[39;00m format_columns \u001b[38;5;129;01mis\u001b[39;00m \u001b[38;5;28;01mNone\u001b[39;00m:\n\u001b[0;32m--> 639\u001b[0m     \u001b[38;5;28;01mreturn\u001b[39;00m \u001b[43mformatter\u001b[49m\u001b[43m(\u001b[49m\u001b[43mpa_table\u001b[49m\u001b[43m,\u001b[49m\u001b[43m \u001b[49m\u001b[43mquery_type\u001b[49m\u001b[38;5;241;43m=\u001b[39;49m\u001b[43mquery_type\u001b[49m\u001b[43m)\u001b[49m\n\u001b[1;32m    640\u001b[0m \u001b[38;5;28;01melif\u001b[39;00m query_type \u001b[38;5;241m==\u001b[39m \u001b[38;5;124m\"\u001b[39m\u001b[38;5;124mcolumn\u001b[39m\u001b[38;5;124m\"\u001b[39m:\n\u001b[1;32m    641\u001b[0m     \u001b[38;5;28;01mif\u001b[39;00m key \u001b[38;5;129;01min\u001b[39;00m format_columns:\n",
      "File \u001b[0;32m~/miniconda3/envs/mars/lib/python3.13/site-packages/datasets/formatting/formatting.py:403\u001b[0m, in \u001b[0;36mFormatter.__call__\u001b[0;34m(self, pa_table, query_type)\u001b[0m\n\u001b[1;32m    401\u001b[0m \u001b[38;5;28;01mdef\u001b[39;00m \u001b[38;5;21m__call__\u001b[39m(\u001b[38;5;28mself\u001b[39m, pa_table: pa\u001b[38;5;241m.\u001b[39mTable, query_type: \u001b[38;5;28mstr\u001b[39m) \u001b[38;5;241m-\u001b[39m\u001b[38;5;241m>\u001b[39m Union[RowFormat, ColumnFormat, BatchFormat]:\n\u001b[1;32m    402\u001b[0m     \u001b[38;5;28;01mif\u001b[39;00m query_type \u001b[38;5;241m==\u001b[39m \u001b[38;5;124m\"\u001b[39m\u001b[38;5;124mrow\u001b[39m\u001b[38;5;124m\"\u001b[39m:\n\u001b[0;32m--> 403\u001b[0m         \u001b[38;5;28;01mreturn\u001b[39;00m \u001b[38;5;28;43mself\u001b[39;49m\u001b[38;5;241;43m.\u001b[39;49m\u001b[43mformat_row\u001b[49m\u001b[43m(\u001b[49m\u001b[43mpa_table\u001b[49m\u001b[43m)\u001b[49m\n\u001b[1;32m    404\u001b[0m     \u001b[38;5;28;01melif\u001b[39;00m query_type \u001b[38;5;241m==\u001b[39m \u001b[38;5;124m\"\u001b[39m\u001b[38;5;124mcolumn\u001b[39m\u001b[38;5;124m\"\u001b[39m:\n\u001b[1;32m    405\u001b[0m         \u001b[38;5;28;01mreturn\u001b[39;00m \u001b[38;5;28mself\u001b[39m\u001b[38;5;241m.\u001b[39mformat_column(pa_table)\n",
      "File \u001b[0;32m~/miniconda3/envs/mars/lib/python3.13/site-packages/datasets/formatting/formatting.py:443\u001b[0m, in \u001b[0;36mPythonFormatter.format_row\u001b[0;34m(self, pa_table)\u001b[0m\n\u001b[1;32m    441\u001b[0m \u001b[38;5;28;01mif\u001b[39;00m \u001b[38;5;28mself\u001b[39m\u001b[38;5;241m.\u001b[39mlazy:\n\u001b[1;32m    442\u001b[0m     \u001b[38;5;28;01mreturn\u001b[39;00m LazyRow(pa_table, \u001b[38;5;28mself\u001b[39m)\n\u001b[0;32m--> 443\u001b[0m row \u001b[38;5;241m=\u001b[39m \u001b[38;5;28;43mself\u001b[39;49m\u001b[38;5;241;43m.\u001b[39;49m\u001b[43mpython_arrow_extractor\u001b[49m\u001b[43m(\u001b[49m\u001b[43m)\u001b[49m\u001b[38;5;241;43m.\u001b[39;49m\u001b[43mextract_row\u001b[49m\u001b[43m(\u001b[49m\u001b[43mpa_table\u001b[49m\u001b[43m)\u001b[49m\n\u001b[1;32m    444\u001b[0m row \u001b[38;5;241m=\u001b[39m \u001b[38;5;28mself\u001b[39m\u001b[38;5;241m.\u001b[39mpython_features_decoder\u001b[38;5;241m.\u001b[39mdecode_row(row)\n\u001b[1;32m    445\u001b[0m \u001b[38;5;28;01mreturn\u001b[39;00m row\n",
      "File \u001b[0;32m~/miniconda3/envs/mars/lib/python3.13/site-packages/datasets/formatting/formatting.py:145\u001b[0m, in \u001b[0;36mPythonArrowExtractor.extract_row\u001b[0;34m(self, pa_table)\u001b[0m\n\u001b[1;32m    144\u001b[0m \u001b[38;5;28;01mdef\u001b[39;00m \u001b[38;5;21mextract_row\u001b[39m(\u001b[38;5;28mself\u001b[39m, pa_table: pa\u001b[38;5;241m.\u001b[39mTable) \u001b[38;5;241m-\u001b[39m\u001b[38;5;241m>\u001b[39m \u001b[38;5;28mdict\u001b[39m:\n\u001b[0;32m--> 145\u001b[0m     \u001b[38;5;28;01mreturn\u001b[39;00m _unnest(\u001b[43mpa_table\u001b[49m\u001b[38;5;241;43m.\u001b[39;49m\u001b[43mto_pydict\u001b[49m\u001b[43m(\u001b[49m\u001b[43m)\u001b[49m)\n",
      "File \u001b[0;32m~/miniconda3/envs/mars/lib/python3.13/site-packages/pyarrow/table.pxi:2280\u001b[0m, in \u001b[0;36mpyarrow.lib._Tabular.to_pydict\u001b[0;34m()\u001b[0m\n",
      "File \u001b[0;32m~/miniconda3/envs/mars/lib/python3.13/site-packages/pyarrow/table.pxi:1366\u001b[0m, in \u001b[0;36mpyarrow.lib.ChunkedArray.to_pylist\u001b[0;34m()\u001b[0m\n",
      "File \u001b[0;32m~/miniconda3/envs/mars/lib/python3.13/site-packages/pyarrow/array.pxi:1656\u001b[0m, in \u001b[0;36mpyarrow.lib.Array.to_pylist\u001b[0;34m()\u001b[0m\n",
      "File \u001b[0;32m~/miniconda3/envs/mars/lib/python3.13/site-packages/pyarrow/scalar.pxi:713\u001b[0m, in \u001b[0;36mpyarrow.lib.ListScalar.as_py\u001b[0;34m()\u001b[0m\n",
      "File \u001b[0;32m~/miniconda3/envs/mars/lib/python3.13/site-packages/pyarrow/array.pxi:1656\u001b[0m, in \u001b[0;36mpyarrow.lib.Array.to_pylist\u001b[0;34m()\u001b[0m\n",
      "File \u001b[0;32m~/miniconda3/envs/mars/lib/python3.13/site-packages/pyarrow/scalar.pxi:794\u001b[0m, in \u001b[0;36mpyarrow.lib.StructScalar.as_py\u001b[0;34m()\u001b[0m\n",
      "File \u001b[0;32m<frozen _collections_abc>:823\u001b[0m, in \u001b[0;36mkeys\u001b[0;34m(self)\u001b[0m\n",
      "\u001b[0;31mKeyboardInterrupt\u001b[0m: "
     ]
    }
   ],
   "source": [
    "idx = 0\n",
    "for key in keys:\n",
    "\n",
    "    outfile = outfiles[key]\n",
    "    problems = []\n",
    "    solutions = []\n",
    "    info = []\n",
    "\n",
    "    for example in ds[key]:\n",
    "\n",
    "        problem = example['problem']\n"
   ]
  },
  {
   "cell_type": "code",
   "execution_count": null,
   "metadata": {},
   "outputs": [],
   "source": []
  }
 ],
 "metadata": {
  "kernelspec": {
   "display_name": "Python 3.12.8 ('mars_steg')",
   "language": "python",
   "name": "python3"
  },
  "language_info": {
   "codemirror_mode": {
    "name": "ipython",
    "version": 3
   },
   "file_extension": ".py",
   "mimetype": "text/x-python",
   "name": "python",
   "nbconvert_exporter": "python",
   "pygments_lexer": "ipython3",
   "version": "3.12.8"
  },
  "vscode": {
   "interpreter": {
    "hash": "d0fcfbb781338d3c09a9c44ed958780c0afbedd3160df5381071b551943b1b73"
   }
  }
 },
 "nbformat": 4,
 "nbformat_minor": 2
}
