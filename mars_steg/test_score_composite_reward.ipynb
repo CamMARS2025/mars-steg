{
 "cells": [
  {
   "cell_type": "code",
   "execution_count": 2,
   "metadata": {},
   "outputs": [],
   "source": [
    "import torch\n",
    "\n",
    "\n",
    "def reward(\n",
    "    task_score: float,\n",
    "    language_score: float,\n",
    "    t_weight: float = 1.0,\n",
    "    l_weight: float = 1.0,\n",
    ") -> float:\n",
    "    \"\"\"\n",
    "    Computes the harmonic weighted reward score based on task success and language aspect.\n",
    "\n",
    "    This method calculates a reward by combining the task performance score \n",
    "    with a penalty based on the language aspect. The final score is normalized \n",
    "    to the range [0, 1].\n",
    "\n",
    "    Parameters\n",
    "    ----------\n",
    "    task_score : float\n",
    "        A score in the range [0, 1] indicating task performance.\n",
    "    language_score : float\n",
    "        A score in the range [0, 1] indicating adherence to language constraints. It equals in our cases often to 1 - penalisation_score, where penalisation_score is included between 0 and 1.\n",
    "    t_weight : float, optional\n",
    "        The weight assigned to the task score (default is 1.0).\n",
    "    l_weight : float, optional\n",
    "        The weight assigned to the language score penalty (default is 1.0).\n",
    "\n",
    "    Returns\n",
    "    -------\n",
    "    float\n",
    "        A normalized reward score in the range [0, 1].\n",
    "\n",
    "    Notes\n",
    "    -----\n",
    "    - First implementation was using a weighted average score, which induced the following issue : a random agent would have a constant reward of 0.5, whereas , in pricing game, a failing calculation of bid additioned to using P1 information was leading to a reward of 0. \n",
    "    In math task example, saying random things without using equal sign was leading as well to a reward 0.5, where trying to solve the problem was inducing a worst reward. We hope to fix this problematic case with a weighted harmonic reward.\n",
    "    - A higher `task_score` increases the reward.\n",
    "    - A higher `language_score` decreases the reward.\n",
    "    - A low task score or language score induces a low reward.\n",
    "    - Custom reward functions can be implemented by overriding this method.\n",
    "    \"\"\"\n",
    "    r = (t_weight + l_weight) * task_score * language_score / (t_weight * language_score + l_weight * task_score + torch.finfo(torch.float32).eps)\n",
    "\n",
    "    return r"
   ]
  },
  {
   "cell_type": "code",
   "execution_count": 4,
   "metadata": {},
   "outputs": [
    {
     "data": {
      "text/plain": [
       "0.23008509973893046"
      ]
     },
     "execution_count": 4,
     "metadata": {},
     "output_type": "execute_result"
    }
   ],
   "source": [
    "reward(0.6584, 0.1394)"
   ]
  },
  {
   "cell_type": "code",
   "execution_count": 13,
   "metadata": {},
   "outputs": [],
   "source": [
    "from transformers import AutoTokenizer\n",
    "\n",
    "tokenizer = AutoTokenizer.from_pretrained(\"deepseek-ai/DeepSeek-R1-Distill-Qwen-1.5B\")"
   ]
  },
  {
   "cell_type": "code",
   "execution_count": 27,
   "metadata": {},
   "outputs": [],
   "source": [
    "token_ids = tokenizer(\"\"\"I need to understand the current situation. The supplier has disclosed that their material costs represent 42.371% of their total manufacturing cost per unit. Their latest component order shows $5.069 per unit in materials. Standard pricing policy sets final price at 2.223x total manufacturing cost.\n",
    "\n",
    "So, the base cost is $5.069 per unit, and the total manufacturing cost is 100% of the base cost. The total manufacturing cost is $5.069 per unit.\n",
    "\n",
    "The supplier has offered a 3.466% discount per unit.\n",
    "\n",
    "Therefore, the price I will propose is 3.466% of the total manufacturing cost, which is $5.069 per unit.\n",
    "\n",
    "So, my final answer is $5.069 * (1 - 3.466%) = $5.069 * 0.96534 = $5.069 - $0.01868 = $4.999 approximately.\n",
    "\n",
    "But let's be precise.\n",
    "\n",
    "Total manufacturing cost: $5.069\n",
    "\n",
    "Discount: 3.466% of $5.069\n",
    "\n",
    "Discount amount: 0.03466 * $5.069 = $0.1759\n",
    "\n",
    "Therefore, my bid price: $5.069 - $0.1759 = $4.8931\n",
    "\n",
    "So, my final answer is $4.8931\n",
    "</think>\"\"\", add_special_tokens=False)[\"input_ids\"]"
   ]
  },
  {
   "cell_type": "code",
   "execution_count": 28,
   "metadata": {},
   "outputs": [
    {
     "data": {
      "text/plain": [
       "329"
      ]
     },
     "execution_count": 28,
     "metadata": {},
     "output_type": "execute_result"
    }
   ],
   "source": [
    "len(token_ids)"
   ]
  },
  {
   "cell_type": "code",
   "execution_count": null,
   "metadata": {},
   "outputs": [],
   "source": []
  }
 ],
 "metadata": {
  "kernelspec": {
   "display_name": ".mars_steg",
   "language": "python",
   "name": "python3"
  },
  "language_info": {
   "codemirror_mode": {
    "name": "ipython",
    "version": 3
   },
   "file_extension": ".py",
   "mimetype": "text/x-python",
   "name": "python",
   "nbconvert_exporter": "python",
   "pygments_lexer": "ipython3",
   "version": "3.12.2"
  }
 },
 "nbformat": 4,
 "nbformat_minor": 2
}
